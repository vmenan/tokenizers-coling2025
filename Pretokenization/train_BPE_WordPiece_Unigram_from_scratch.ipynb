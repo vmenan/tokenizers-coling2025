{
 "cells": [
  {
   "cell_type": "code",
   "execution_count": 1,
   "id": "b7738b99",
   "metadata": {},
   "outputs": [],
   "source": [
    "## importing the tokenizer and subword BPE trainer\n",
    "from tokenizers import Tokenizer\n",
    "from tokenizers.models import BPE, Unigram, WordLevel, WordPiece\n",
    "from tokenizers.trainers import BpeTrainer, WordLevelTrainer, \\\n",
    "                                WordPieceTrainer, UnigramTrainer\n",
    "\n",
    "## a pretokenizer to segment the text into words\n",
    "from tokenizers.pre_tokenizers import Whitespace"
   ]
  },
  {
   "cell_type": "markdown",
   "id": "c9d01f55",
   "metadata": {},
   "source": [
    "‘WLV’ - Word Level Algorithm\n",
    "\n",
    "‘WPC’ - WordPiece Algorithm\n",
    "\n",
    "‘BPE’ - Byte Pair Encoding\n",
    "\n",
    "‘UNI’ - Unigram"
   ]
  },
  {
   "cell_type": "code",
   "execution_count": 2,
   "id": "2de86571",
   "metadata": {},
   "outputs": [],
   "source": [
    "unk_token = \"<UNK>\"  # token for unknown words\n",
    "spl_tokens = [\"<UNK>\", \"<SEP>\", \"<MASK>\", \"<CLS>\"]  # special tokens\n",
    "\n",
    "def prepare_tokenizer_trainer(alg,vocab_size=5000):\n",
    "    \"\"\"\n",
    "    Prepares the tokenizer and trainer with unknown & special tokens.\n",
    "    \"\"\"\n",
    "    if alg == 'BPE':\n",
    "        tokenizer = Tokenizer(BPE(unk_token = unk_token))\n",
    "        trainer = BpeTrainer(special_tokens = spl_tokens,vocab_size=vocab_size)\n",
    "    elif alg == 'UNI':\n",
    "        tokenizer = Tokenizer(Unigram())\n",
    "        trainer = UnigramTrainer(unk_token= unk_token, special_tokens = spl_tokens,vocab_size=vocab_size)\n",
    "    elif alg == 'WPC':\n",
    "        tokenizer = Tokenizer(WordPiece(unk_token = unk_token))\n",
    "        trainer = WordPieceTrainer(special_tokens = spl_tokens,vocab_size=vocab_size)\n",
    "    else:\n",
    "        tokenizer = Tokenizer(WordLevel(unk_token = unk_token))\n",
    "        trainer = WordLevelTrainer(special_tokens = spl_tokens,vocab_size=vocab_size)\n",
    "    \n",
    "    tokenizer.pre_tokenizer = Whitespace()\n",
    "    return tokenizer, trainer\n",
    "\n",
    "\n",
    "def train_tokenizer(files, save_path, vocab_size, alg='WLV'):\n",
    "    \"\"\"\n",
    "    Takes the files and trains the tokenizer.\n",
    "    \"\"\"\n",
    "    tokenizer, trainer = prepare_tokenizer_trainer(alg, vocab_size)\n",
    "    tokenizer.train(files, trainer) # training the tokenzier\n",
    "    tokenizer.save(save_path)\n",
    "    tokenizer = Tokenizer.from_file(save_path)\n",
    "    return tokenizer"
   ]
  },
  {
   "cell_type": "code",
   "execution_count": 3,
   "id": "da0c4796",
   "metadata": {},
   "outputs": [
    {
     "name": "stdout",
     "output_type": "stream",
     "text": [
      "./trained_models/from_scratch/90_percent_eng/bpe_scratch_5K_90_percent_eng\n",
      "\n",
      "\n",
      "\n",
      "./trained_models/from_scratch/90_percent_eng/unigram_scratch_5K_90_percent_eng\n",
      "\n",
      "\n",
      "./trained_models/from_scratch/90_percent_eng/wordpiece_scratch_5K_90_percent_eng\n",
      "\n",
      "\n",
      "\n"
     ]
    }
   ],
   "source": [
    "tokenizers = [(\"./trained_models/from_scratch/90_percent_eng/bpe_scratch_5K_90_percent_eng\",\"BPE\",5000),\n",
    "            (\"./trained_models/from_scratch/90_percent_eng/unigram_scratch_5K_90_percent_eng\",\"UNI\",5000),\n",
    "             (\"./trained_models/from_scratch/90_percent_eng/wordpiece_scratch_5K_90_percent_eng\",\"WPC\",5000)\n",
    "            ]\n",
    "files = [\"./language_mixed/samanantar_eng_90_percent.txt\"]\n",
    "for save_path,algo,vocab_size in tokenizers:\n",
    "    print(save_path)\n",
    "    trained_tokenizer = train_tokenizer(files, save_path, vocab_size, algo)\n",
    "#     assert len(trained_tokenizer)==vocab_size"
   ]
  },
  {
   "cell_type": "code",
   "execution_count": null,
   "id": "69ca507a",
   "metadata": {},
   "outputs": [],
   "source": []
  }
 ],
 "metadata": {
  "kernelspec": {
   "display_name": "Python 3 (ipykernel)",
   "language": "python",
   "name": "python3"
  },
  "language_info": {
   "codemirror_mode": {
    "name": "ipython",
    "version": 3
   },
   "file_extension": ".py",
   "mimetype": "text/x-python",
   "name": "python",
   "nbconvert_exporter": "python",
   "pygments_lexer": "ipython3",
   "version": "3.10.14"
  }
 },
 "nbformat": 4,
 "nbformat_minor": 5
}
